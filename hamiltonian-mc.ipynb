{
 "cells": [
  {
   "cell_type": "markdown",
   "metadata": {},
   "source": [
    "# Hamiltonian MC\n",
    "Useful for multidimensional approximations, like parameter estimations\n",
    "\n",
    "Based on: https://towardsdatascience.com/python-hamiltonian-monte-carlo-from-scratch-955dba96a42d"
   ]
  },
  {
   "cell_type": "code",
   "execution_count": 3,
   "metadata": {},
   "outputs": [
    {
     "name": "stderr",
     "output_type": "stream",
     "text": [
      "Fontconfig warning: ignoring UTF-8: not a valid region tag\n"
     ]
    }
   ],
   "source": [
    "import numpy as np\n",
    "import random\n",
    "import scipy.stats as st\n",
    "import matplotlib.pyplot as plt"
   ]
  },
  {
   "cell_type": "code",
   "execution_count": 4,
   "metadata": {},
   "outputs": [],
   "source": [
    "def normal(x, mu, sigma):\n",
    "    numerator = np.exp(-1* ((x-mu)**2)/2*sigma**2)\n",
    "    denom = sigma * np.sqrt(2*np.pi)\n",
    "    return numerator/denom"
   ]
  },
  {
   "cell_type": "code",
   "execution_count": 7,
   "metadata": {},
   "outputs": [
    {
     "data": {
      "text/plain": [
       "array([3.42659119e-19, 9.97355701e-02])"
      ]
     },
     "execution_count": 7,
     "metadata": {},
     "output_type": "execute_result"
    }
   ],
   "source": [
    "# test \n",
    "normal(np.array([5,3]), np.array([2,3]), np.array([3,4]))"
   ]
  },
  {
   "cell_type": "code",
   "execution_count": null,
   "metadata": {},
   "outputs": [],
   "source": [
    "def neg_log_prob(x, mu, sigma):\n",
    "    return -1 * np.log(normal(x=x, mu=mu, sigma=sigma))"
   ]
  },
  {
   "cell_type": "code",
   "execution_count": 8,
   "metadata": {},
   "outputs": [],
   "source": [
    "def HMC(\n",
    "    mu=0.0,\n",
    "    sigma=1.0,\n",
    "    path_len=1,\n",
    "    step_sz=0.25,\n",
    "    init_pos=0.0,\n",
    "    epochs=1_000\n",
    "):\n",
    "    # setup\n",
    "    steps = int(path_len/step_sz) # tricky to tune\n",
    "    samples = [init_pos]\n",
    "    momentum_dist = st.norm(0, 1)\n",
    "\n",
    "    # generate samples\n",
    "    for e in range(epochs):\n",
    "        q0 = np.copy(samples[-1])\n",
    "        q1 = np.copy(q0)\n",
    "        p0 = momentum_dist.rvs() # sample distro\n",
    "        p1 = np.copy(p0)\n",
    "        dVdQ = -1*(q0-mu)/(sigma**2) # gradient of PDF wrt position (q0) aka potential energy wrt position\n",
    "\n",
    "        # leapfrog integration begin\n",
    "        for s in range(steps):\n",
    "            p1 += step_sz*dVdQ/2 # pot energy up, kin energy down, first half step\n",
    "            q1 += step_sz*p1 # pos inc as function of momentum\n",
    "            p1 += step_sz*dVdQ/2 # second half step\n",
    "        # leapfrog end\n",
    "        p1 = -1*p1; # flip momentum for reversibility\n",
    "\n",
    "        # metropolis acceptance\n",
    "        q0_nlp = neg_log_prob(x=q0, mu=mu, sigma=sigma)\n",
    "        q1_nlp = neg_log_prob(x=q1, mu=mu, sigma=sigma)\n",
    "\n",
    "        p0_nlp = neg_log_prob(x=p0, mu=0, sigma=1)\n",
    "        p1_nlp = neg_log_prob(x=p1, mu=0, sigma=1)\n",
    "\n",
    "        # Account for negatives and log(prob)\n",
    "        target = q0_nlp - q1_nlp\n",
    "        adjustment = p1_nlp - p0_nlp\n",
    "        acceptance = target + adjustment\n",
    "        event = np.log(random.uniform(0, 1))\n",
    "        if event <= acceptance:\n",
    "            samples.append(q1)\n",
    "        else:\n",
    "            samples.append(q0)\n",
    "    return samples\n"
   ]
  },
  {
   "cell_type": "code",
   "execution_count": 14,
   "metadata": {},
   "outputs": [
    {
     "data": {
      "text/plain": [
       "-0.280704643005934"
      ]
     },
     "execution_count": 14,
     "metadata": {},
     "output_type": "execute_result"
    }
   ],
   "source": [
    "st.norm(0, 1).rvs()"
   ]
  },
  {
   "cell_type": "code",
   "execution_count": 11,
   "metadata": {},
   "outputs": [
    {
     "data": {
      "text/plain": [
       "<scipy.stats._distn_infrastructure.rv_continuous_frozen at 0x12fd39000>"
      ]
     },
     "execution_count": 11,
     "metadata": {},
     "output_type": "execute_result"
    }
   ],
   "source": []
  }
 ],
 "metadata": {
  "kernelspec": {
   "display_name": "Python 3.10.6 64-bit",
   "language": "python",
   "name": "python3"
  },
  "language_info": {
   "codemirror_mode": {
    "name": "ipython",
    "version": 3
   },
   "file_extension": ".py",
   "mimetype": "text/x-python",
   "name": "python",
   "nbconvert_exporter": "python",
   "pygments_lexer": "ipython3",
   "version": "3.10.6"
  },
  "orig_nbformat": 4,
  "vscode": {
   "interpreter": {
    "hash": "b0fa6594d8f4cbf19f97940f81e996739fb7646882a419484c72d19e05852a7e"
   }
  }
 },
 "nbformat": 4,
 "nbformat_minor": 2
}
