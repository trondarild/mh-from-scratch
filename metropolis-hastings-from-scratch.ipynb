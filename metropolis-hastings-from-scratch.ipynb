{
 "cells": [
  {
   "cell_type": "code",
   "execution_count": null,
   "id": "thrown-fraction",
   "metadata": {},
   "outputs": [],
   "source": [
    "# https://towardsdatascience.com/from-scratch-bayesian-inference-markov-chain-monte-carlo-and-metropolis-hastings-in-python-ef21a29e25a\n",
    "#"
   ]
  },
  {
   "cell_type": "code",
   "execution_count": 4,
   "id": "designed-candidate",
   "metadata": {},
   "outputs": [],
   "source": [
    "import numpy as np\n",
    "import matplotlib.pyplot as plt\n",
    "import scipy\n"
   ]
  },
  {
   "cell_type": "code",
   "execution_count": null,
   "id": "italian-values",
   "metadata": {},
   "outputs": [],
   "source": []
  },
  {
   "cell_type": "code",
   "execution_count": 2,
   "id": "adolescent-inspiration",
   "metadata": {},
   "outputs": [],
   "source": [
    "# data generation\n",
    "mod1 = lambda t: np.random.normal(10,3,t)"
   ]
  },
  {
   "cell_type": "code",
   "execution_count": null,
   "id": "01db0cb2",
   "metadata": {},
   "outputs": [],
   "source": []
  },
  {
   "cell_type": "code",
   "execution_count": 4,
   "id": "finnish-arbitration",
   "metadata": {},
   "outputs": [],
   "source": [
    "# population of 30.000 individual avg 10, scale=3\n",
    "population = mod1(30000)"
   ]
  },
  {
   "cell_type": "code",
   "execution_count": 5,
   "id": "multiple-handbook",
   "metadata": {},
   "outputs": [],
   "source": [
    "# Assume only able to obs 1.000 of these individuals\n",
    "observation = population[np.random.randint(0, 30000, 1000)]"
   ]
  },
  {
   "cell_type": "code",
   "execution_count": 14,
   "id": "continued-submission",
   "metadata": {},
   "outputs": [
    {
     "data": {
      "text/plain": [
       "9.989050509034634"
      ]
     },
     "execution_count": 14,
     "metadata": {},
     "output_type": "execute_result"
    },
    {
     "data": {
      "image/png": "[encoded data removed]",
      "text/plain": [
       "<Figure size 720x720 with 1 Axes>"
      ]
     },
     "metadata": {
      "needs_background": "light"
     },
     "output_type": "display_data"
    }
   ],
   "source": [
    "fig = plt.figure(figsize=(10,10))\n",
    "ax = fig.add_subplot(1,1,1)\n",
    "ax.hist(observation, bins=35,)\n",
    "ax.set_xlabel(\"Value\")\n",
    "ax.set_ylabel(\"Frequency\")\n",
    "ax.set_title(\"Figure 1: 1000 obs from 30.000\")\n",
    "mu_obs = observation.mean()\n",
    "mu_obs"
   ]
  },
  {
   "cell_type": "code",
   "execution_count": 6,
   "id": "australian-occupation",
   "metadata": {},
   "outputs": [],
   "source": [
    "# transition model defines how to move from sigma current to sigma new\n",
    "transition_model = lambda x: [x[0], np.random.normal(x[1], 0.5, (1,))[0]]"
   ]
  },
  {
   "cell_type": "code",
   "execution_count": 90,
   "id": "indonesian-revision",
   "metadata": {},
   "outputs": [
    {
     "data": {
      "text/plain": [
       "array([-1.47754621])"
      ]
     },
     "execution_count": 90,
     "metadata": {},
     "output_type": "execute_result"
    }
   ],
   "source": [
    "np.random.normal(0.1, 0.5, (1,))"
   ]
  },
  {
   "cell_type": "code",
   "execution_count": 7,
   "id": "effective-range",
   "metadata": {},
   "outputs": [],
   "source": [
    "def prior(x):\n",
    "    #x[0] = mu, x[1]=sigma (new or current)\n",
    "    #returns 1 for all valid values of sigma. Log(1) =0, so it does not affect the summation.\n",
    "    #returns 0 for all invalid values of sigma (<=0). Log(0)=-infinity, and Log(negative number) is undefined.\n",
    "    #It makes the new sigma infinitely unlikely.\n",
    "    if(x[1] <= 0): return 0\n",
    "    return 1"
   ]
  },
  {
   "cell_type": "code",
   "execution_count": 1,
   "id": "grand-occasion",
   "metadata": {},
   "outputs": [],
   "source": [
    "#Computes the likelihood of the data given a sigma (new or current) according to equation (2)\n",
    "def manual_log_like_normal(x, data):\n",
    "    #x[0]=mu, x[1]=sigma (new or current)\n",
    "    #data = the observation\n",
    "    # np.sum(-np.log(\n",
    "    #     x[1] * np.sqrt(2* np.pi) )-((data-x[0])**2) / (2*x[1]**2))\n",
    "    return np.sum(-np.log( \n",
    "        x[1] * np.sqrt(2* np.pi)) -((data-x[0])**2) / (2*x[1]**2)\n",
    "        )\n",
    "    \n"
   ]
  },
  {
   "cell_type": "code",
   "execution_count": 9,
   "id": "clinical-graduation",
   "metadata": {},
   "outputs": [],
   "source": [
    "#Same as manual_log_like_normal(x,data), but using scipy implementation. It's pretty slow.\n",
    "def log_lik_normal(x, data):\n",
    "    #x[0]=mu, x[1]=sigma (new or current)\n",
    "    #data = the observation\n",
    "    return np.sum(np.log(scipy.stats.norm(x[0], x[1]).pdf(data)))"
   ]
  },
  {
   "cell_type": "code",
   "execution_count": 10,
   "id": "accompanied-curtis",
   "metadata": {},
   "outputs": [],
   "source": [
    "# accept or reject new sample\n",
    "def acceptance (x, x_new):\n",
    "    if x_new > x: return True\n",
    "    else:\n",
    "        accept = np.random.uniform(0, 1)\n",
    "        return (accept < (np.exp(x_new - x)))"
   ]
  },
  {
   "cell_type": "code",
   "execution_count": 12,
   "id": "subtle-structure",
   "metadata": {},
   "outputs": [],
   "source": [
    "def metropolis_hastings(likelihood_computer, \n",
    "                        prior, \n",
    "                        transition_model, \n",
    "                        param_init,\n",
    "                        iterations,\n",
    "                        data,\n",
    "                        acceptance_rule):\n",
    "    # likelihood_computer(x,data): returns the likelihood that these parameters generated the data\n",
    "    # transition_model(x): a function that draws a sample from a symmetric distribution and returns it\n",
    "    # param_init: a starting sample\n",
    "    # iterations: number of accepted to generated\n",
    "    # data: the data that we wish to model\n",
    "    # acceptance_rule(x,x_new): decides whether to accept or reject the new sample    \n",
    "    x = param_init\n",
    "    accepted = []\n",
    "    rejected = []\n",
    "    for i in range(iterations):\n",
    "        x_new = transition_model(x)\n",
    "        x_lik = likelihood_computer(x, data)\n",
    "        x_new_lik = likelihood_computer(x_new, data)\n",
    "        if(acceptance_rule(x_lik + \n",
    "                           np.log(prior(x)), \n",
    "                           x_new_lik + np.log(prior(x_new)))):\n",
    "            x = x_new\n",
    "            accepted.append(x_new)\n",
    "        else:\n",
    "            rejected.append(x_new)\n",
    "    return np.array(accepted), np.array(rejected)"
   ]
  },
  {
   "cell_type": "code",
   "execution_count": 15,
   "id": "democratic-building",
   "metadata": {},
   "outputs": [
    {
     "name": "stderr",
     "output_type": "stream",
     "text": [
      "<ipython-input-8-380f87ad2a10>:5: RuntimeWarning: invalid value encountered in log\n",
      "  return np.sum(-np.log(x[1] * np.sqrt(2* np.pi) )-((data-x[0])**2) / (2*x[1]**2))\n",
      "<ipython-input-12-eef69ff7e60f>:23: RuntimeWarning: divide by zero encountered in log\n",
      "  x_new_lik + np.log(prior(x_new)))):\n"
     ]
    }
   ],
   "source": [
    "accepted, rejected = metropolis_hastings( manual_log_like_normal,\n",
    "                                        prior,\n",
    "                                        transition_model,\n",
    "                                        [mu_obs, 0.1],\n",
    "                                        50000,\n",
    "                                        observation,\n",
    "                                        acceptance)"
   ]
  },
  {
   "cell_type": "code",
   "execution_count": 16,
   "id": "twelve-phase",
   "metadata": {},
   "outputs": [
    {
     "data": {
      "text/plain": [
       "8820"
      ]
     },
     "execution_count": 16,
     "metadata": {},
     "output_type": "execute_result"
    }
   ],
   "source": [
    "len(accepted)"
   ]
  },
  {
   "cell_type": "code",
   "execution_count": null,
   "id": "impressed-diana",
   "metadata": {},
   "outputs": [],
   "source": [
    "mu_obs"
   ]
  },
  {
   "cell_type": "code",
   "execution_count": null,
   "id": "polish-finnish",
   "metadata": {},
   "outputs": [],
   "source": [
    "accepted"
   ]
  },
  {
   "cell_type": "code",
   "execution_count": 17,
   "id": "executive-prior",
   "metadata": {},
   "outputs": [],
   "source": [
    "a = accepted[:, 1]\n",
    "r = rejected[:, 1]"
   ]
  },
  {
   "cell_type": "code",
   "execution_count": 21,
   "id": "social-jurisdiction",
   "metadata": {},
   "outputs": [
    {
     "data": {
      "text/plain": [
       "[<matplotlib.lines.Line2D at 0x7f75591c4370>]"
      ]
     },
     "execution_count": 21,
     "metadata": {},
     "output_type": "execute_result"
    },
    {
     "data": {
      "image/png": "[encoded data removed]",
      "text/plain": [
       "<Figure size 432x288 with 1 Axes>"
      ]
     },
     "metadata": {
      "needs_background": "light"
     },
     "output_type": "display_data"
    }
   ],
   "source": [
    "start = 1000\n",
    "num = 8000\n",
    "plt.plot(np.linspace(start,num,num-start), r[start:num] )\n",
    "plt.plot(np.linspace(start,num,num-start), a[start:num] )\n",
    "#plt.scatter(np.linspace(start,num,num-start), a[start:num])\n"
   ]
  },
  {
   "cell_type": "code",
   "execution_count": 22,
   "id": "secure-hartford",
   "metadata": {},
   "outputs": [
    {
     "data": {
      "text/plain": [
       "(array([  5.,   6.,  10.,  28.,  30.,  52.,  70., 120., 149., 256., 319.,\n",
       "        355., 391., 442., 507., 464., 458., 481., 471., 431., 394., 353.,\n",
       "        294., 260., 194., 147., 115.,  69.,  51.,  33.,  18.,  11.,   7.,\n",
       "          5.,   4.]),\n",
       " array([2.92647965, 2.94164187, 2.9568041 , 2.97196632, 2.98712855,\n",
       "        3.00229077, 3.017453  , 3.03261522, 3.04777745, 3.06293967,\n",
       "        3.0781019 , 3.09326412, 3.10842634, 3.12358857, 3.13875079,\n",
       "        3.15391302, 3.16907524, 3.18423747, 3.19939969, 3.21456192,\n",
       "        3.22972414, 3.24488637, 3.26004859, 3.27521082, 3.29037304,\n",
       "        3.30553526, 3.32069749, 3.33585971, 3.35102194, 3.36618416,\n",
       "        3.38134639, 3.39650861, 3.41167084, 3.42683306, 3.44199529,\n",
       "        3.45715751]),\n",
       " <BarContainer object of 35 artists>)"
      ]
     },
     "execution_count": 22,
     "metadata": {},
     "output_type": "execute_result"
    },
    {
     "data": {
      "image/png": "[encoded data removed]",
      "text/plain": [
       "<Figure size 432x288 with 1 Axes>"
      ]
     },
     "metadata": {
      "needs_background": "light"
     },
     "output_type": "display_data"
    }
   ],
   "source": [
    "plt.hist(a[start:num], bins=35)"
   ]
  },
  {
   "cell_type": "code",
   "execution_count": 96,
   "id": "subject-manchester",
   "metadata": {},
   "outputs": [
    {
     "ename": "ValueError",
     "evalue": "The truth value of an array with more than one element is ambiguous. Use a.any() or a.all()",
     "output_type": "error",
     "traceback": [
      "\u001b[0;31m------------------------------------------------------------\u001b[0m",
      "\u001b[0;31mValueError\u001b[0m                 Traceback (most recent call last)",
      "\u001b[0;32m<ipython-input-96-35719a29e31f>\u001b[0m in \u001b[0;36m<module>\u001b[0;34m\u001b[0m\n\u001b[0;32m----> 1\u001b[0;31m \u001b[0mpost\u001b[0m \u001b[0;34m=\u001b[0m \u001b[0;34m[\u001b[0m\u001b[0mx\u001b[0m \u001b[0;34m+\u001b[0m \u001b[0my\u001b[0m \u001b[0;32mfor\u001b[0m \u001b[0mx\u001b[0m \u001b[0;32min\u001b[0m \u001b[0maccepted\u001b[0m\u001b[0;34m[\u001b[0m\u001b[0;34m:\u001b[0m\u001b[0;34m,\u001b[0m\u001b[0;36m0\u001b[0m\u001b[0;34m]\u001b[0m \u001b[0;32mand\u001b[0m \u001b[0my\u001b[0m \u001b[0;32min\u001b[0m \u001b[0maccepted\u001b[0m\u001b[0;34m[\u001b[0m\u001b[0;34m:\u001b[0m\u001b[0;34m,\u001b[0m\u001b[0;36m1\u001b[0m\u001b[0;34m]\u001b[0m\u001b[0;34m]\u001b[0m\u001b[0;34m\u001b[0m\u001b[0;34m\u001b[0m\u001b[0m\n\u001b[0m",
      "\u001b[0;31mValueError\u001b[0m: The truth value of an array with more than one element is ambiguous. Use a.any() or a.all()"
     ]
    }
   ],
   "source": [
    "post = [x + y for x in accepted[:,0] and y in accepted[:,1]]"
   ]
  },
  {
   "cell_type": "code",
   "execution_count": 23,
   "id": "subsequent-founder",
   "metadata": {},
   "outputs": [],
   "source": [
    "post = list(map(lambda x: x[0] + x[1], accepted))"
   ]
  },
  {
   "cell_type": "code",
   "execution_count": null,
   "id": "narrow-federal",
   "metadata": {},
   "outputs": [],
   "source": [
    "post"
   ]
  },
  {
   "cell_type": "code",
   "execution_count": 24,
   "id": "fitted-plant",
   "metadata": {},
   "outputs": [
    {
     "data": {
      "text/plain": [
       "(array([1.000e+00, 0.000e+00, 0.000e+00, 0.000e+00, 0.000e+00, 0.000e+00,\n",
       "        0.000e+00, 0.000e+00, 0.000e+00, 0.000e+00, 0.000e+00, 1.000e+00,\n",
       "        0.000e+00, 0.000e+00, 3.000e+00, 0.000e+00, 0.000e+00, 0.000e+00,\n",
       "        1.000e+00, 0.000e+00, 0.000e+00, 0.000e+00, 0.000e+00, 1.000e+00,\n",
       "        0.000e+00, 0.000e+00, 0.000e+00, 1.000e+00, 2.900e+01, 4.730e+02,\n",
       "        2.220e+03, 3.144e+03, 2.246e+03, 6.420e+02, 5.800e+01]),\n",
       " array([10.63164571, 10.71206177, 10.79247784, 10.8728939 , 10.95330997,\n",
       "        11.03372604, 11.1141421 , 11.19455817, 11.27497424, 11.3553903 ,\n",
       "        11.43580637, 11.51622243, 11.5966385 , 11.67705457, 11.75747063,\n",
       "        11.8378867 , 11.91830276, 11.99871883, 12.0791349 , 12.15955096,\n",
       "        12.23996703, 12.32038309, 12.40079916, 12.48121523, 12.56163129,\n",
       "        12.64204736, 12.72246342, 12.80287949, 12.88329556, 12.96371162,\n",
       "        13.04412769, 13.12454376, 13.20495982, 13.28537589, 13.36579195,\n",
       "        13.44620802]),\n",
       " <BarContainer object of 35 artists>)"
      ]
     },
     "execution_count": 24,
     "metadata": {},
     "output_type": "execute_result"
    },
    {
     "data": {
      "image/png": "[encoded data removed]",
      "text/plain": [
       "<Figure size 432x288 with 1 Axes>"
      ]
     },
     "metadata": {
      "needs_background": "light"
     },
     "output_type": "display_data"
    }
   ],
   "source": [
    "plt.hist(post, bins=35)"
   ]
  },
  {
   "cell_type": "markdown",
   "id": "b96929be",
   "metadata": {},
   "source": [
    "## Sunspot example"
   ]
  },
  {
   "cell_type": "code",
   "execution_count": 28,
   "id": "518547ac",
   "metadata": {},
   "outputs": [],
   "source": [
    "import math\n",
    "import scipy\n",
    "import scipy.stats\n",
    "import pandas as pd"
   ]
  },
  {
   "cell_type": "code",
   "execution_count": 37,
   "id": "d369bd3e",
   "metadata": {},
   "outputs": [],
   "source": [
    "data_ss = pd.read_csv(\"Catalogue_B.csv\", delimiter=';')"
   ]
  },
  {
   "cell_type": "code",
   "execution_count": 41,
   "id": "47750876",
   "metadata": {},
   "outputs": [
    {
     "data": {
      "text/plain": [
       "0       42.2\n",
       "1       42.2\n",
       "2       42.2\n",
       "3       42.2\n",
       "4       42.2\n",
       "        ... \n",
       "1752     4.0\n",
       "1753     4.0\n",
       "1754     4.0\n",
       "1755     4.0\n",
       "1756     4.0\n",
       "Name: 42.2, Length: 1757, dtype: float64"
      ]
     },
     "execution_count": 41,
     "metadata": {},
     "output_type": "execute_result"
    }
   ],
   "source": [
    "data_ss.iloc[:, 4]"
   ]
  },
  {
   "cell_type": "code",
   "execution_count": 43,
   "id": "af75b532",
   "metadata": {},
   "outputs": [
    {
     "data": {
      "text/plain": [
       "(array([182., 220., 162.,  74.,  70.,  83.,  87.,  70.,  71.,  91.,  63.,\n",
       "         73.,  61.,  79.,  40.,  49.,  36.,  42.,  31.,  26.,  27.,  18.,\n",
       "         19.,  25.,   8.,   9.,  21.,   5.,   3.,  12.]),\n",
       " array([  0.2 ,   4.83,   9.46,  14.09,  18.72,  23.35,  27.98,  32.61,\n",
       "         37.24,  41.87,  46.5 ,  51.13,  55.76,  60.39,  65.02,  69.65,\n",
       "         74.28,  78.91,  83.54,  88.17,  92.8 ,  97.43, 102.06, 106.69,\n",
       "        111.32, 115.95, 120.58, 125.21, 129.84, 134.47, 139.1 ]),\n",
       " <BarContainer object of 30 artists>)"
      ]
     },
     "execution_count": 43,
     "metadata": {},
     "output_type": "execute_result"
    },
    {
     "data": {
      "image/png": "[encoded data removed]",
      "text/plain": [
       "<Figure size 432x288 with 1 Axes>"
      ]
     },
     "metadata": {
      "needs_background": "light"
     },
     "output_type": "display_data"
    }
   ],
   "source": [
    "plt.hist(data_ss.iloc[:, 4], bins=30)"
   ]
  },
  {
   "cell_type": "code",
   "execution_count": 2,
   "id": "c665f1bc",
   "metadata": {},
   "outputs": [],
   "source": [
    "transition_model = lambda x: np.random.normal(x, [0.05, 5], (2,))"
   ]
  },
  {
   "cell_type": "code",
   "execution_count": 13,
   "id": "1537d377",
   "metadata": {},
   "outputs": [
    {
     "data": {
      "text/plain": [
       "array([ 1.01647169, -6.56520867])"
      ]
     },
     "execution_count": 13,
     "metadata": {},
     "output_type": "execute_result"
    }
   ],
   "source": [
    "transition_model(1)"
   ]
  },
  {
   "cell_type": "code",
   "execution_count": 16,
   "id": "c785b430",
   "metadata": {},
   "outputs": [
    {
     "data": {
      "text/plain": [
       "2.2181595437576878"
      ]
     },
     "execution_count": 16,
     "metadata": {},
     "output_type": "execute_result"
    }
   ],
   "source": [
    "math.gamma(0.4)"
   ]
  },
  {
   "cell_type": "code",
   "execution_count": 55,
   "id": "a3d0f833",
   "metadata": {},
   "outputs": [
    {
     "data": {
      "text/plain": [
       "-69075.68108162285"
      ]
     },
     "execution_count": 55,
     "metadata": {},
     "output_type": "execute_result"
    }
   ],
   "source": [
    "# log likelihood of observed data given specified pdf (or other way around)\n",
    "# log likelihood\n",
    "np.sum(np.log(scipy.stats.gamma(a=1.12, scale=1, loc=0).pdf(data_ss.iloc[:, 4]))) "
   ]
  }
 ],
 "metadata": {
  "kernelspec": {
   "display_name": "Python 3.8.2 64-bit",
   "language": "python",
   "name": "python3"
  },
  "language_info": {
   "codemirror_mode": {
    "name": "ipython",
    "version": 3
   },
   "file_extension": ".py",
   "mimetype": "text/x-python",
   "name": "python",
   "nbconvert_exporter": "python",
   "pygments_lexer": "ipython3",
   "version": "3.8.2"
  },
  "vscode": {
   "interpreter": {
    "hash": "31f2aee4e71d21fbe5cf8b01ff0e069b9275f58929596ceb00d14d90e3e16cd6"
   }
  }
 },
 "nbformat": 4,
 "nbformat_minor": 5
}
